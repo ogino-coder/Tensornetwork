{
 "cells": [
  {
   "cell_type": "code",
   "execution_count": 1,
   "metadata": {},
   "outputs": [],
   "source": [
    "import numpy as np"
   ]
  },
  {
   "cell_type": "markdown",
   "metadata": {},
   "source": [
    "The exact free energy"
   ]
  },
  {
   "cell_type": "code",
   "execution_count": 2,
   "metadata": {},
   "outputs": [],
   "source": [
    "def f_exact (beta,J,N):\n",
    "    K = beta * J\n",
    "    f = - np.log( 2 * np.cosh(K) ) / beta - np.log( 1 + np.tanh(K) ** N ) / ( N * beta )\n",
    "    return f"
   ]
  },
  {
   "cell_type": "markdown",
   "metadata": {},
   "source": [
    "The initial state of the transfer matrix $\\tilde{T}^{\\text{1D}}$"
   ]
  },
  {
   "cell_type": "code",
   "execution_count": 3,
   "metadata": {},
   "outputs": [],
   "source": [
    "def init_tensor_1D_Ising (beta,J):\n",
    "    K = beta * J\n",
    "    W = np.array([[np.sqrt(np.cosh(K)),np.sqrt(np.sinh(K))],\n",
    "                  [np.sqrt(np.cosh(K)),-np.sqrt(np.sinh(K))]])\n",
    "    T = np.einsum(\"ab,bc -> ac\",W,W.T)\n",
    "    return T"
   ]
  },
  {
   "cell_type": "markdown",
   "metadata": {},
   "source": [
    "Calculate $\\mathrm{tr}[\\tilde{T}^{N}]/N (= - \\beta f^{\\text{1D}})$, where  $N=2^{N_{\\text{itr}}}$."
   ]
  },
  {
   "cell_type": "code",
   "execution_count": 4,
   "metadata": {},
   "outputs": [],
   "source": [
    "def renormalize_1D (T,N_itr):\n",
    "    lnZ = 0.0\n",
    "    for x in range(N_itr):\n",
    "        alpha = np.amax(abs(T))\n",
    "        T = T / alpha # normalize\n",
    "        lnZ += 2 ** ( N_itr - x ) * np.log(alpha)\n",
    "        T = np.einsum(\"ab,bc -> ac\",T,T)\n",
    "    trace = T[0][0] + T[1][1]\n",
    "    lnZ += np.log(trace)\n",
    "    return lnZ / 2 ** N_itr"
   ]
  },
  {
   "cell_type": "code",
   "execution_count": 9,
   "metadata": {},
   "outputs": [
    {
     "name": "stdout",
     "output_type": "stream",
     "text": [
      "exact -1.009074963958905 calculation -1.0090749639589047 error 2.220446049250313e-16\n"
     ]
    }
   ],
   "source": [
    "beta = 2.0; J = 1.0; N_itr = 20\n",
    "T = init_tensor_1D_Ising(beta,J)\n",
    "lnZ = renormalize_1D(T,N_itr)\n",
    "f = - lnZ / beta\n",
    "f_ex = f_exact(beta,J,2**N_itr)\n",
    "\n",
    "print (\"exact\",f_ex,\"calculation\",f,\"error\",f-f_ex)"
   ]
  },
  {
   "cell_type": "code",
   "execution_count": null,
   "metadata": {},
   "outputs": [],
   "source": []
  },
  {
   "cell_type": "code",
   "execution_count": null,
   "metadata": {},
   "outputs": [],
   "source": []
  }
 ],
 "metadata": {
  "kernelspec": {
   "display_name": "Python 3",
   "language": "python",
   "name": "python3"
  },
  "language_info": {
   "codemirror_mode": {
    "name": "ipython",
    "version": 3
   },
   "file_extension": ".py",
   "mimetype": "text/x-python",
   "name": "python",
   "nbconvert_exporter": "python",
   "pygments_lexer": "ipython3",
   "version": "3.7.3"
  }
 },
 "nbformat": 4,
 "nbformat_minor": 2
}
