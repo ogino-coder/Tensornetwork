{
 "cells": [
  {
   "cell_type": "markdown",
   "metadata": {},
   "source": [
    "# One-dimensional spin-$1$ Heisenberg model\n",
    "\n",
    "This program uses the single-site unit cell VUMPS algorithm [1].\n",
    "\n",
    "This program corresponds to Fig. 1 (b) in Ref. [1]."
   ]
  },
  {
   "cell_type": "markdown",
   "metadata": {},
   "source": [
    "#### Reference\n",
    "\n",
    "[1] Phys. Rev. B 97, 045145 (2018)\n",
    "\n",
    "https://journals.aps.org/prb/abstract/10.1103/PhysRevB.97.045145\n",
    "\n",
    "https://arxiv.org/abs/1701.07035"
   ]
  },
  {
   "cell_type": "markdown",
   "metadata": {},
   "source": [
    "#### Tips\n",
    "\n",
    "When $ M = 30 $ and $ \\text{max_iter} = 50$, this code converges within 2 seconds.\n",
    "\n",
    "When $ M = 120 $ and $ \\text{max_iter} = 50$, this code converges within 30 seconds.\n",
    "\n",
    "MacBook Pro 2017 2.3 GHz dual core Intel Core i5"
   ]
  },
  {
   "cell_type": "code",
   "execution_count": 22,
   "metadata": {},
   "outputs": [],
   "source": [
    "import numpy as np\n",
    "import scipy as sp\n",
    "from scipy.sparse.linalg import LinearOperator\n",
    "\n",
    "import sys\n",
    "sys.path.append('Library')\n",
    "import MathFunctions as MF\n",
    "import MPSOperators as MO\n",
    "import SingleVUMPS as SV"
   ]
  },
  {
   "cell_type": "code",
   "execution_count": 27,
   "metadata": {},
   "outputs": [
    {
     "name": "stdout",
     "output_type": "stream",
     "text": [
      "step 0, E 0.8679201474999796, |B| 0.4193036140831626\n",
      "step 1, E -1.3641131470765824, |B| 0.02757282792588013\n",
      "step 2, E -1.4013499486222447, |B| 0.0008729466685010696\n",
      "step 3, E -1.4014784686578923, |B| 0.00026357570671567214\n",
      "step 4, E -1.4014825032222853, |B| 0.00018414530577492153\n",
      "step 5, E -1.4014829056907532, |B| 0.00016393506423672633\n",
      "step 6, E -1.4014830880808606, |B| 0.000134990666354986\n",
      "step 7, E -1.401483317676575, |B| 8.161930127544771e-05\n",
      "step 8, E -1.4014834700579848, |B| 3.124208152499786e-05\n",
      "step 9, E -1.401483525339986, |B| 1.0202876693565261e-05\n",
      "step 10, E -1.4014835369597602, |B| 3.5648072541506054e-06\n",
      "step 11, E -1.4014835388351856, |B| 1.3286912965248196e-06\n",
      "step 12, E -1.4014835391278457, |B| 5.174612667061633e-07\n",
      "step 13, E -1.4014835391749412, |B| 2.0664468246220853e-07\n",
      "step 14, E -1.40148353918278, |B| 8.381143742404958e-08\n",
      "step 15, E -1.4014835391841216, |B| 3.4343173364478936e-08\n",
      "step 16, E -1.4014835391843563, |B| 1.4180204630356037e-08\n",
      "step 17, E -1.4014835391843958, |B| 5.891080986457656e-09\n",
      "step 18, E -1.4014835391844076, |B| 2.4604320573542773e-09\n",
      "step 19, E -1.4014835391844085, |B| 1.0325142967241722e-09\n",
      "step 20, E -1.401483539184405, |B| 4.351916344241784e-10\n",
      "step 21, E -1.4014835391844032, |B| 1.841738628608353e-10\n",
      "step 22, E -1.4014835391844018, |B| 7.823808833017937e-11\n",
      "step 23, E -1.4014835391844038, |B| 3.335333593115674e-11\n",
      "step 24, E -1.4014835391844054, |B| 1.4265106096224927e-11\n",
      "step 25, E -1.4014835391844054, |B| 6.1195853003944936e-12\n",
      "step 26, E -1.4014835391844052, |B| 2.6325860096147313e-12\n",
      "step 27, E -1.4014835391844065, |B| 1.1353163689787819e-12\n",
      "Converged!\n"
     ]
    }
   ],
   "source": [
    "dtype = np.dtype(\"float\") \n",
    "#dtype = np.dtype(\"complex\")\n",
    "\n",
    "D = 3 # physical bond D = 3 corresponds to spin-1\n",
    "M = 30 # virtual bond  \n",
    "max_iter = 50 # the number of the VUMPS steps\n",
    "\n",
    "Sx,Sy,Sz,Su,Sd = MF.Spin(D)\n",
    "h = ( np.kron(Sx,Sx) + np.kron(Sy,Sy) + np.kron(Sz,Sz) ).real.reshape(D,D,D,D) # Hamiltonian\n",
    "\n",
    "# initial state\n",
    "np.random.seed(3162277)\n",
    "A = np.random.rand(M,D,M) \n",
    "HR = np.random.rand(M,M); HL = np.random.rand(M,M)\n",
    "tol = 1e-10\n",
    "\n",
    "AC,C,AR,AL = MO.MixedCanonicalForm(A,dtype)\n",
    "\n",
    "for i in range (max_iter):\n",
    "    HR,er = SV.Calc_HR(AR,HR,h,dtype,tol=tol)\n",
    "    HL,el = SV.Calc_HL(AL,HL,h,dtype,tol=tol)\n",
    "    AC = SV.Next_AC(AC,AR,AL,HR,HL,h,dtype,tol=tol)\n",
    "    C = SV.Next_C(C,AR,AL,HR,HL,h,dtype,tol=tol)\n",
    "    #AR = SV.Next_AR_SVD(AC,C)\n",
    "    AR = SV.Next_AR_PolarDecomposition(AC,C)\n",
    "    #AL = SV.Next_AL_SVD(AC,C)\n",
    "    AL = SV.Next_AL_PolarDecomposition(AC,C)\n",
    "    B = SV.Calc_B(AC,C,AR,AL)\n",
    "    tol = B / 100\n",
    "    if B < 1e-12: \n",
    "        print (\"Converged!\")\n",
    "        break\n",
    "    E = 0.5 * ( er + el ).real\n",
    "    print (\"step {}, E {}, |B| {}\".format(i,E,B))\n",
    "\n",
    "#Tensors = np.empty(4, dtype=object)\n",
    "#Tensors[0] = AC; Tensors[1] = C; Tensors[2] = AR; Tensors[3] = AL\n",
    "#np.save(\"Data/Tensors_Heisenberg_{}_{}.npy\".format(D,M),Tensors)"
   ]
  },
  {
   "cell_type": "code",
   "execution_count": null,
   "metadata": {},
   "outputs": [],
   "source": []
  }
 ],
 "metadata": {
  "kernelspec": {
   "display_name": "Python 3",
   "language": "python",
   "name": "python3"
  },
  "language_info": {
   "codemirror_mode": {
    "name": "ipython",
    "version": 3
   },
   "file_extension": ".py",
   "mimetype": "text/x-python",
   "name": "python",
   "nbconvert_exporter": "python",
   "pygments_lexer": "ipython3",
   "version": "3.7.3"
  }
 },
 "nbformat": 4,
 "nbformat_minor": 2
}
