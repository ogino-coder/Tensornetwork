{
 "cells": [
  {
   "cell_type": "code",
   "execution_count": 5,
   "metadata": {},
   "outputs": [],
   "source": [
    "import numpy as np\n",
    "import scipy as sp\n",
    "from scipy.sparse.linalg import LinearOperator\n",
    "\n",
    "import MathFunctions as MF\n",
    "import MPSOperators as MO\n",
    "import SingleVUMPS as SV"
   ]
  },
  {
   "cell_type": "code",
   "execution_count": null,
   "metadata": {},
   "outputs": [
    {
     "name": "stdout",
     "output_type": "stream",
     "text": [
      "0 -0.8910944744576039 0.027766197236835616\n",
      "0 -0.8910944744576039 0.027766197236835616\n"
     ]
    }
   ],
   "source": [
    "D = 3; M = 120\n",
    "dtype = np.dtype(\"float\"); A = np.random.rand(M,D,M)\n",
    "#dtype = np.dtype(\"complex\"); A = np.random.rand(M,D,M) + 1j * np.random.rand(M,D,M); \n",
    "Sx,Sy,Sz,Su,Sd = MF.Spin(D)\n",
    "# h = - ( np.kron(Sx,Sx) + np.kron(Sy,Sy) - np.kron(Sz,Sz) ).real.reshape(D,D,D,D)\n",
    "h =  ( np.kron(Sx,Sx) + np.kron(Sy,Sy) + np.kron(Sz,Sz) ).real.reshape(D,D,D,D)\n",
    "AC,C,AR,AL = MO.MixedCanonicalForm(A,dtype)\n",
    "HR = np.random.rand(M,M); HL = np.random.rand(M,M) # initial HR and HL\n",
    "tol = 1e-10\n",
    "# tol = 0\n",
    "for i in range (50):\n",
    "    HR,er = SV.Calc_HR(AR,HR,h,dtype,tol=tol)\n",
    "    HL,el = SV.Calc_HL(AL,HL,h,dtype,tol=tol)\n",
    "    AC = SV.Next_AC(AC,AR,AL,HR,HL,h,dtype,tol=tol)\n",
    "    #AC = SV.Simple_Next_AC(AC,AR,AL,HR,HL,h,dtype)\n",
    "    C = SV.Next_C(C,AR,AL,HR,HL,h,dtype,tol=tol)\n",
    "    #C = SV.Simple_Next_C(C,AR,AL,HR,HL,h,dtype)\n",
    "    #AR = SV.Next_AR_SVD(AC,C)\n",
    "    AR = SV.Next_AR_PolarDecomposition(AC,C)\n",
    "    #AL = SV.Next_AL_SVD(AC,C)\n",
    "    AL = SV.Next_AL_PolarDecomposition(AC,C)\n",
    "    B = SV.Calc_B(AC,C,AR,AL)\n",
    "    tol = B / 1000\n",
    "    # if B < 1e-13: break\n",
    "    E = 0.5 * ( er + el ).real\n",
    "    print (i,E,B)"
   ]
  },
  {
   "cell_type": "code",
   "execution_count": null,
   "metadata": {},
   "outputs": [],
   "source": []
  },
  {
   "cell_type": "code",
   "execution_count": null,
   "metadata": {},
   "outputs": [],
   "source": []
  },
  {
   "cell_type": "code",
   "execution_count": null,
   "metadata": {},
   "outputs": [],
   "source": []
  },
  {
   "cell_type": "code",
   "execution_count": null,
   "metadata": {},
   "outputs": [],
   "source": []
  },
  {
   "cell_type": "code",
   "execution_count": null,
   "metadata": {},
   "outputs": [],
   "source": []
  },
  {
   "cell_type": "code",
   "execution_count": null,
   "metadata": {},
   "outputs": [],
   "source": []
  },
  {
   "cell_type": "code",
   "execution_count": null,
   "metadata": {},
   "outputs": [],
   "source": []
  },
  {
   "cell_type": "code",
   "execution_count": null,
   "metadata": {},
   "outputs": [],
   "source": []
  },
  {
   "cell_type": "code",
   "execution_count": null,
   "metadata": {},
   "outputs": [],
   "source": []
  },
  {
   "cell_type": "code",
   "execution_count": null,
   "metadata": {},
   "outputs": [],
   "source": []
  },
  {
   "cell_type": "code",
   "execution_count": null,
   "metadata": {},
   "outputs": [],
   "source": []
  },
  {
   "cell_type": "code",
   "execution_count": null,
   "metadata": {},
   "outputs": [],
   "source": []
  }
 ],
 "metadata": {
  "kernelspec": {
   "display_name": "Python 3",
   "language": "python",
   "name": "python3"
  },
  "language_info": {
   "codemirror_mode": {
    "name": "ipython",
    "version": 3
   },
   "file_extension": ".py",
   "mimetype": "text/x-python",
   "name": "python",
   "nbconvert_exporter": "python",
   "pygments_lexer": "ipython3",
   "version": "3.7.3"
  }
 },
 "nbformat": 4,
 "nbformat_minor": 2
}
