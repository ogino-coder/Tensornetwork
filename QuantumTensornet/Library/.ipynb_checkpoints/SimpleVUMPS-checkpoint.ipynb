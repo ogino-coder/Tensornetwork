{
 "cells": [
  {
   "cell_type": "code",
   "execution_count": 1,
   "metadata": {},
   "outputs": [],
   "source": [
    "import numpy as np\n",
    "import scipy as sp\n",
    "from scipy.sparse.linalg import LinearOperator\n",
    "\n",
    "import MathFunctions as MF\n",
    "import MPSOperators as MO\n",
    "import SingleVUMPS as SV"
   ]
  },
  {
   "cell_type": "code",
   "execution_count": 2,
   "metadata": {},
   "outputs": [],
   "source": [
    "def Calc_left_energy(AL,h,dtype):\n",
    "    M = AL.shape[0]\n",
    "    hl = Calc_hl(AL,h)\n",
    "    _,vecR = MF.RightEigs(AL,dtype)\n",
    "    VR = vecR.reshape(M,M)\n",
    "    VR /= np.trace(VR)\n",
    "    energy = np.inner(hl.reshape(M*M),VR.reshape(M*M))\n",
    "    return energy"
   ]
  },
  {
   "cell_type": "code",
   "execution_count": 3,
   "metadata": {},
   "outputs": [],
   "source": [
    "def Calc_right_energy(AR,h,dtype):\n",
    "    M = AR.shape[0]\n",
    "    hr = Calc_hr(AR,h)\n",
    "    _,vecL = MF.RightEigs(AR.transpose(2,1,0),dtype)\n",
    "    VL = vecL.reshape(M,M)\n",
    "    VL /= np.trace(VL)\n",
    "    energy = np.inner(hr.reshape(M*M),VL.reshape(M*M))\n",
    "    return energy"
   ]
  },
  {
   "cell_type": "code",
   "execution_count": 4,
   "metadata": {},
   "outputs": [],
   "source": [
    "def Calc_hl(AL,h):\n",
    "    ALAL = np.tensordot(AL,AL,([2],[0]))\n",
    "    ALALh = np.tensordot(ALAL,h,([1,2],[0,1]))\n",
    "    hl = np.tensordot(ALALh,np.conj(ALAL),([0,2,3],[0,1,2]))\n",
    "    return hl"
   ]
  },
  {
   "cell_type": "code",
   "execution_count": 5,
   "metadata": {},
   "outputs": [],
   "source": [
    "def Calc_hr(AR,h):\n",
    "    ARAR = np.tensordot(AR,AR,([2],[0]))\n",
    "    ARARh = np.tensordot(ARAR,h,([1,2],[0,1]))\n",
    "    hr = np.tensordot(ARARh,np.conj(ARAR),([2,3,1],[1,2,3]))\n",
    "    return hr"
   ]
  },
  {
   "cell_type": "code",
   "execution_count": 6,
   "metadata": {},
   "outputs": [],
   "source": [
    "# 実数はデバッグ済み\n",
    "def Calc_HL(AL,HL,h,dtype,tol=1e-17):\n",
    "    M = AL.shape[0]\n",
    "    hl = Calc_hl(AL,h)\n",
    "    el = Calc_left_energy(AL,h,dtype)\n",
    "    hl -= el * np.eye(M,M)\n",
    "    #HL = Calc_HL_PowerMethod(AL,hl)\n",
    "    #HL = Calc_HL_Inverse(AL,hl)\n",
    "    HL = Simple_Calc_HL_Linear(AL,HL,hl,dtype,tol)\n",
    "    return HL,el"
   ]
  },
  {
   "cell_type": "code",
   "execution_count": 7,
   "metadata": {},
   "outputs": [],
   "source": [
    "# 実数はデバッグ済み\n",
    "def Calc_HR(AR,HR,h,dtype,tol=1e-17):\n",
    "    M = AR.shape[0]\n",
    "    hr = Calc_hr(AR,h)\n",
    "    er = Calc_right_energy(AR,h,dtype)\n",
    "    hr -= er * np.eye(M,M)\n",
    "    #HR = Calc_HR_PowerMethod(AR,hr)\n",
    "    #HR = Calc_HR_Inverse(AR,hr)\n",
    "    HR = Simple_Calc_HR_Linear(AR,HR,hr,dtype,tol)\n",
    "    return HR,er"
   ]
  },
  {
   "cell_type": "code",
   "execution_count": 8,
   "metadata": {},
   "outputs": [],
   "source": [
    "def Simple_Calc_HR_Linear(AR,HR,hr,dtype,tol):\n",
    "    M = AR.shape[0]\n",
    "    TR = np.einsum(\"asc,bsd -> abcd\",AR,np.conj(AR)).reshape(M*M,M*M)\n",
    "    _,vecL = MF.RightEigs(AR,dtype)\n",
    "    VL = vecL.reshape(M,M)\n",
    "    VL /= np.trace(VL)\n",
    "    P = np.einsum(\"ab,cd -> abcd\",np.eye(M),VL).reshape(M*M,M*M)\n",
    "    PL = np.eye(M*M) - P\n",
    "    R = np.einsum(\"ab,b -> a\",PL,hr.reshape(M*M))\n",
    "    T = np.eye(M*M) - TR + P\n",
    "    HR,_ = sp.sparse.linalg.bicgstab(T,R,atol=tol,tol=tol,x0=HR.reshape(M*M))\n",
    "    return HR.reshape(M,M)"
   ]
  },
  {
   "cell_type": "code",
   "execution_count": 9,
   "metadata": {},
   "outputs": [],
   "source": [
    "def Simple_Calc_HL_Linear(AL,HL,hl,dtype,tol):\n",
    "    M = AL.shape[0]\n",
    "    TL = np.einsum(\"asc,bsd -> abcd\",AL,np.conj(AL)).reshape(M*M,M*M)\n",
    "    _,vecR = MF.RightEigs(AL.transpose(2,1,0),dtype)\n",
    "    VR = vecR.reshape(M,M)\n",
    "    VR /= np.trace(VR)\n",
    "    P = np.einsum(\"ab,cd -> abcd\",np.eye(M),VR).reshape(M*M,M*M)\n",
    "    PR = np.eye(M*M) - P\n",
    "    R = np.einsum(\"ab,b -> a\",PR,hl.reshape(M*M))\n",
    "    T = np.eye(M*M) - TL.T + P\n",
    "    HL,_ = sp.sparse.linalg.bicgstab(T,R,atol=tol,tol=tol,x0=HL.reshape(M*M))\n",
    "    return HL.reshape(M,M)"
   ]
  },
  {
   "cell_type": "code",
   "execution_count": 10,
   "metadata": {},
   "outputs": [],
   "source": [
    "def Calc_HR_Inverse(AR,hr):\n",
    "    M = AR.shape[0]\n",
    "    TR = np.einsum(\"asc,bsd -> abcd\",AR,np.conj(AR)).reshape(M*M,M*M)\n",
    "    Tinf = sp.linalg.inv(np.eye(M*M) - TR)\n",
    "    HR = np.einsum(\"ab,b -> a\",Tinf,hr.reshape(M*M))\n",
    "    return HR.reshape(M,M)"
   ]
  },
  {
   "cell_type": "code",
   "execution_count": 11,
   "metadata": {},
   "outputs": [],
   "source": [
    "def Calc_HL_Inverse(AL,hl):\n",
    "    M = AL.shape[0]\n",
    "    TL = np.einsum(\"asc,bsd -> abcd\",AL,np.conj(AL)).reshape(M*M,M*M)\n",
    "    Tinf = sp.linalg.inv(np.eye(M*M) - TL)\n",
    "    HL = np.einsum(\"a,ab -> b\",hl.reshape(M*M),Tinf)\n",
    "    return HL.reshape(M,M)"
   ]
  },
  {
   "cell_type": "code",
   "execution_count": 12,
   "metadata": {},
   "outputs": [],
   "source": [
    "def Calc_HL_PowerMethod(AL,hl,tol=1e-15,max_iter=10000):\n",
    "    M = hl.shape[0]\n",
    "    HL = hl\n",
    "    for i in range(max_iter):\n",
    "        HL_ini = HL\n",
    "        ALHL = np.tensordot(HL,AL,([0],[0]))\n",
    "        TLHL = np.tensordot(ALHL,np.conj(AL),([0,1],[0,1]))\n",
    "        HL = TLHL + hl\n",
    "        if ( np.allclose(HL,HL_ini,rtol=0,atol=tol*M*M) ): \n",
    "            print(i)\n",
    "            break\n",
    "    return HL"
   ]
  },
  {
   "cell_type": "code",
   "execution_count": 13,
   "metadata": {},
   "outputs": [],
   "source": [
    "def Calc_HR_PowerMethod(AR,hr,tol=1e-15,max_iter=10000):\n",
    "    M = hr.shape[0]\n",
    "    HR = hr\n",
    "    for i in range(max_iter):\n",
    "        HR_ini = HR\n",
    "        ARHR = np.tensordot(AR,HR,([2],[0]))\n",
    "        TRHR = np.tensordot(ARHR,np.conj(AR),([1,2],[1,2]))\n",
    "        HR = TRHR + hr\n",
    "        if ( np.allclose(HR,HR_ini,rtol=0,atol=tol*M*M) ): \n",
    "            print(i)\n",
    "            break\n",
    "    return HR"
   ]
  },
  {
   "cell_type": "code",
   "execution_count": 14,
   "metadata": {},
   "outputs": [],
   "source": [
    "# 実数はデバッグ済み\n",
    "def Simple_EffectiveHamiltonian_HAC(AR,AL,HR,HL,h):\n",
    "    M = AR.shape[0]; D = AR.shape[1]\n",
    "    Block1 = np.einsum(\"ghd,gia,heib,fc -> abcdef\",AL,np.conj(AL),h,np.eye(M)).reshape(M*D*M,M*D*M)\n",
    "    Block2 = np.einsum(\"fhg,cig,ehbi,da -> abcdef\",AR,np.conj(AR),h,np.eye(M)).reshape(M*D*M,M*D*M)\n",
    "    Block3 = np.einsum(\"ab,cd -> bdac\",HL,np.eye(D*M)).reshape(M*D*M,M*D*M)\n",
    "    Block4 = np.einsum(\"ab,cd -> bdac\",np.eye(D*M),HR).reshape(M*D*M,M*D*M)\n",
    "    return Block1 + Block2 + Block3 + Block4"
   ]
  },
  {
   "cell_type": "code",
   "execution_count": 15,
   "metadata": {},
   "outputs": [],
   "source": [
    "def Simple_Next_AC(AC,AR,AL,HR,HL,h,dtype):\n",
    "    M = AR.shape[0]; D = AR.shape[1]\n",
    "    HAC = Simple_EffectiveHamiltonian_HAC(AR,AL,HR,HL,h)\n",
    "    val,vec = sp.sparse.linalg.eigs(HAC,k=1,which=\"SR\",v0=AC)\n",
    "    if ( dtype == np.dtype(\"float\") ): vec = vec.real\n",
    "    return vec.reshape(M,D,M)"
   ]
  },
  {
   "cell_type": "code",
   "execution_count": null,
   "metadata": {},
   "outputs": [],
   "source": []
  },
  {
   "cell_type": "code",
   "execution_count": 16,
   "metadata": {},
   "outputs": [],
   "source": [
    "#　実数はデバッグ済み\n",
    "def Simple_EffectiveHamiltonian_HC(AR,AL,HR,HL,h):\n",
    "    M = AR.shape[0];\n",
    "    Block1 = np.einsum(\"efc,eha,dgj,bij,fghi\",AL,np.conj(AL),AR,np.conj(AR),h).reshape(M*M,M*M)\n",
    "    Block2 = np.einsum(\"ab,cd -> bdac\",HL,np.eye(M)).reshape(M*M,M*M)\n",
    "    Block3 = np.einsum(\"ab,cd -> bdac\",np.eye(M),HR).reshape(M*M,M*M)\n",
    "    return Block1 + Block2 + Block3"
   ]
  },
  {
   "cell_type": "code",
   "execution_count": 17,
   "metadata": {},
   "outputs": [],
   "source": [
    "def Simple_Next_C(C,AR,AL,HR,HL,h,dtype):\n",
    "    M = AR.shape[0]; D = AR.shape[1]\n",
    "    HC = Simple_EffectiveHamiltonian_HC(AR,AL,HR,HL,h)\n",
    "    val,vec = sp.sparse.linalg.eigs(HC,k=1,which=\"SR\",v0=C)\n",
    "    if ( dtype == np.dtype(\"float\") ): vec = vec.real\n",
    "    return vec.reshape(M,M)"
   ]
  },
  {
   "cell_type": "code",
   "execution_count": null,
   "metadata": {},
   "outputs": [],
   "source": []
  },
  {
   "cell_type": "code",
   "execution_count": null,
   "metadata": {},
   "outputs": [],
   "source": []
  },
  {
   "cell_type": "code",
   "execution_count": null,
   "metadata": {},
   "outputs": [],
   "source": []
  },
  {
   "cell_type": "code",
   "execution_count": 18,
   "metadata": {},
   "outputs": [],
   "source": [
    "def Calc_B(AC,C,AR,AL):\n",
    "    BL_square = 0\n",
    "    D = AC.shape[1]\n",
    "    for i in range(D):\n",
    "        B = AC[:,i,:] - np.einsum(\"ab,bc -> ac\",AL[:,i,:],C)\n",
    "        BL_square += np.sum(abs(B)**2)\n",
    "    BR_square = 0\n",
    "    for i in range(D):\n",
    "        B = AC[:,i,:] - np.einsum(\"ab,bc -> ac\",C,AR[:,i,:])\n",
    "        BR_square += np.sum(abs(B)**2)\n",
    "    B_square = max(BL_square,BR_square)\n",
    "    return np.sqrt(B_square)"
   ]
  },
  {
   "cell_type": "code",
   "execution_count": null,
   "metadata": {},
   "outputs": [],
   "source": []
  },
  {
   "cell_type": "code",
   "execution_count": 20,
   "metadata": {},
   "outputs": [
    {
     "name": "stdout",
     "output_type": "stream",
     "text": [
      "(-0.25070034273716413-1.611395478856581e-17j) (-0.2507003427371644+9.716145531364628e-17j) 0.08962168389333856\n",
      "(-0.43877677552983624-6.938893903907228e-18j) (-0.43836715178536395-1.0928757898653885e-16j) 0.011600981618139017\n",
      "(-0.44238493332445894+7.632783294297951e-17j) (-0.44239249050365687-4.0766001685454967e-17j) 0.005542521406005832\n",
      "(-0.4428229297200586+0j) (-0.44282586201286694+7.806255641895632e-17j) 0.0028999878765216263\n",
      "(-0.44294542032322853-1.0408340855860843e-16j) (-0.44294576176367434+7.806255641895632e-18j) 0.001670283035767049\n",
      "(-0.44298441796889887-1.5959455978986625e-16j) (-0.44298447648726724+2.6020852139652106e-18j) 0.000972732442515934\n",
      "(-0.44299766116704825-3.469446951953614e-17j) (-0.4429976701956603-1.3704315460216776e-16j) 0.0005701277876641308\n",
      "(-0.4430022437095542+7.632783294297951e-17j) (-0.4430022452876319-1.7694179454963432e-16j) 0.00033444116364180675\n",
      "(-0.4430038347607721+9.71445146547012e-17j) (-0.4430038350016975+1.734723475976807e-17j) 0.0001962216992759328\n",
      "(-0.4430043862455961-3.469446951953614e-17j) (-0.44300438628780314-1.0842021724855044e-17j) 0.00011509317569652122\n",
      "(-0.4430045769527643-5.551115123125783e-17j) (-0.44300457695907347+4.119968255444917e-17j) 6.749644404989296e-05\n",
      "(-0.4430046427687591+6.245004513516506e-17j) (-0.4430046427698725+7.502679033599691e-17j) 3.9578373934476434e-05\n",
      "(-0.4430046654517268-1.3877787807814457e-16j) (-0.4430046654518909+9.974659986866641e-18j) 2.320710346618913e-05\n",
      "(-0.44300467326224924+2.7755575615628914e-17j) (-0.4430046732622789-5.767955557622884e-17j) 1.360761076525999e-05\n",
      "(-0.4430046759502293-2.220446049250313e-16j) (-0.4430046759502328-1.734723475976807e-18j) 7.979060247187699e-06\n",
      "(-0.4430046768749998+4.85722573273506e-17j) (-0.443004676875001+5.984795992119984e-17j) 4.678767133346196e-06\n",
      "(-0.4430046771930981-4.85722573273506e-17j) (-0.4430046771930972-6.245004513516506e-17j) 2.743603687795191e-06\n",
      "(-0.4430046773025063-7.632783294297951e-17j) (-0.4430046773025062+5.074066167232161e-17j) 1.6088652952254492e-06\n",
      "(-0.4430046773401348+1.3183898417423734e-16j) (-0.4430046773401354+1.2576745200831851e-17j) 9.434630646595497e-07\n",
      "(-0.4430046773530758+7.632783294297951e-17j) (-0.4430046773530758+4.85722573273506e-17j) 5.532678518408298e-07\n",
      "(-0.4430046773575256-5.551115123125783e-17j) (-0.44300467735752685+6.245004513516506e-17j) 3.244518138102837e-07\n",
      "(-0.44300467735905685-7.632783294297951e-17j) (-0.44300467735905824+5.637851296924623e-17j) 1.9026914655262864e-07\n",
      "(-0.4430046773595836-1.3877787807814457e-17j) (-0.44300467735958454+2.7755575615628914e-17j) 1.1158079085445423e-07\n",
      "(-0.44300467735976423+5.551115123125783e-17j) (-0.4430046773597641-5.898059818321144e-17j) 6.543545664378086e-08\n",
      "(-0.44300467735982896+6.245004513516506e-17j) (-0.44300467735982824+2.42861286636753e-17j) 3.837420643415881e-08\n",
      "(-0.4430046773598487+1.734723475976807e-16j) (-0.44300467735984816+2.5847379792054426e-16j) 2.2504445898202866e-08\n",
      "(-0.44300467735985544+4.163336342344337e-17j) (-0.44300467735985605-5.637851296924623e-17j) 1.3197754995191247e-08\n",
      "(-0.4430046773598591+2.0816681711721685e-17j) (-0.4430046773598585-8.933825901280557e-17j) 7.739896786853488e-09\n",
      "(-0.44300467735985977+4.163336342344337e-17j) (-0.4430046773598597+9.540979117872439e-18j) 4.539143163338811e-09\n",
      "(-0.4430046773598593-9.020562075079397e-17j) (-0.44300467735986016-8.109832250191573e-17j) 2.6620517327874134e-09\n"
     ]
    }
   ],
   "source": [
    "D = 2; M = 10\n",
    "#dtype = np.dtype(\"float\"); A = np.random.rand(M,D,M)\n",
    "dtype = np.dtype(\"complex\"); A = np.random.rand(M,D,M) + 1j * np.random.rand(M,D,M); \n",
    "Sx,Sy,Sz,Su,Sd = MF.Spin(D)\n",
    "h = - ( np.kron(Sx,Sx) + np.kron(Sy,Sy) - np.kron(Sz,Sz) ).real.reshape(D,D,D,D)\n",
    "AC,C,AR,AL = MO.MixedCanonicalForm(A,dtype)\n",
    "HR = np.random.rand(M,M); HL = np.random.rand(M,M) # initial HR and HL\n",
    "for i in range (30):\n",
    "    HR,er = SV.Calc_HR(AR,HR,h,dtype)\n",
    "    HL,el = SV.Calc_HL(AL,HL,h,dtype)\n",
    "    AC = SV.Simple_Next_AC(AC,AR,AL,HR,HL,h,dtype)\n",
    "    C = SV.Simple_Next_C(C,AR,AL,HR,HL,h,dtype)\n",
    "    AR = SV.Next_AR_SVD(AC,C)\n",
    "    #AR = SV.Next_AR_PolarDecomposition(AC,C)\n",
    "    AL = SV.Next_AL_SVD(AC,C)\n",
    "    #AL = SV.Next_AL_PolarDecomposition(AC,C)\n",
    "    B = SV.Calc_B(AC,C,AR,AL)\n",
    "    print (er,el,B)"
   ]
  },
  {
   "cell_type": "code",
   "execution_count": 41,
   "metadata": {},
   "outputs": [],
   "source": [
    "def Tsum(T,R):\n",
    "    Rini = R\n",
    "    for i in range (10000):\n",
    "        #print ( T.shape, R.shape)\n",
    "        T2 = np.einsum(\"ab,b -> a\",T,R)\n",
    "        R = T2 + Rini\n",
    "    return R"
   ]
  },
  {
   "cell_type": "code",
   "execution_count": 19,
   "metadata": {},
   "outputs": [],
   "source": [
    "def Calc_HR2(A,hr_tilde,iteration = 10000):\n",
    "    R = hr_tilde\n",
    "    for i in range (iteration):\n",
    "        R_next = np.tensordot(np.tensordot(A,R,([2],[0])),A,([0,2],[0,2])) + hr_tilde\n",
    "        if abs(np.sum((R_next - R)**2)) < 1e-11:\n",
    "            break\n",
    "        R = R_next\n",
    "    return R_next   "
   ]
  },
  {
   "cell_type": "code",
   "execution_count": 63,
   "metadata": {},
   "outputs": [],
   "source": [
    "def Calc_HL2(A,hl_tilde,iteration = 10000):\n",
    "    L = hl_tilde\n",
    "    for i in range (iteration):\n",
    "        L_next = np.tensordot(np.tensordot(L,A,([0],[1])),A,([0,1],[1,0])) + hl_tilde\n",
    "        if abs(np.sum((L_next - L)*2)) < 1e-11:\n",
    "            break\n",
    "        L = L_next\n",
    "    return L_next"
   ]
  },
  {
   "cell_type": "code",
   "execution_count": 29,
   "metadata": {},
   "outputs": [
    {
     "name": "stdout",
     "output_type": "stream",
     "text": [
      "15\n"
     ]
    },
    {
     "ename": "NameError",
     "evalue": "name 'Calc_HR2' is not defined",
     "output_type": "error",
     "traceback": [
      "\u001b[0;31m---------------------------------------------------------------------------\u001b[0m",
      "\u001b[0;31mNameError\u001b[0m                                 Traceback (most recent call last)",
      "\u001b[0;32m<ipython-input-29-d859a68cf4e4>\u001b[0m in \u001b[0;36m<module>\u001b[0;34m\u001b[0m\n\u001b[1;32m      7\u001b[0m \u001b[0mhr\u001b[0m \u001b[0;34m-=\u001b[0m \u001b[0mer\u001b[0m \u001b[0;34m*\u001b[0m \u001b[0mnp\u001b[0m\u001b[0;34m.\u001b[0m\u001b[0meye\u001b[0m\u001b[0;34m(\u001b[0m\u001b[0mM\u001b[0m\u001b[0;34m,\u001b[0m\u001b[0mM\u001b[0m\u001b[0;34m)\u001b[0m\u001b[0;34m\u001b[0m\u001b[0;34m\u001b[0m\u001b[0m\n\u001b[1;32m      8\u001b[0m \u001b[0mHR\u001b[0m \u001b[0;34m=\u001b[0m \u001b[0mCalc_HR_PowerMethod\u001b[0m\u001b[0;34m(\u001b[0m\u001b[0mAR\u001b[0m\u001b[0;34m,\u001b[0m\u001b[0mhr\u001b[0m\u001b[0;34m)\u001b[0m\u001b[0;34m\u001b[0m\u001b[0;34m\u001b[0m\u001b[0m\n\u001b[0;32m----> 9\u001b[0;31m \u001b[0mHR2\u001b[0m \u001b[0;34m=\u001b[0m \u001b[0mCalc_HR2\u001b[0m\u001b[0;34m(\u001b[0m\u001b[0mAR\u001b[0m\u001b[0;34m.\u001b[0m\u001b[0mtranspose\u001b[0m\u001b[0;34m(\u001b[0m\u001b[0;36m1\u001b[0m\u001b[0;34m,\u001b[0m\u001b[0;36m0\u001b[0m\u001b[0;34m,\u001b[0m\u001b[0;36m2\u001b[0m\u001b[0;34m)\u001b[0m\u001b[0;34m,\u001b[0m\u001b[0mhr\u001b[0m\u001b[0;34m)\u001b[0m\u001b[0;34m\u001b[0m\u001b[0;34m\u001b[0m\u001b[0m\n\u001b[0m\u001b[1;32m     10\u001b[0m \u001b[0mprint\u001b[0m \u001b[0;34m(\u001b[0m\u001b[0mnp\u001b[0m\u001b[0;34m.\u001b[0m\u001b[0mallclose\u001b[0m\u001b[0;34m(\u001b[0m\u001b[0mHR\u001b[0m\u001b[0;34m,\u001b[0m\u001b[0mHR2\u001b[0m\u001b[0;34m)\u001b[0m\u001b[0;34m)\u001b[0m\u001b[0;34m\u001b[0m\u001b[0;34m\u001b[0m\u001b[0m\n\u001b[1;32m     11\u001b[0m \u001b[0;31m#print (HR.reshape(M*M)-HR2,HR2-HR3,HR3-HR.reshape(M*M),HR3)\u001b[0m\u001b[0;34m\u001b[0m\u001b[0;34m\u001b[0m\u001b[0;34m\u001b[0m\u001b[0m\n",
      "\u001b[0;31mNameError\u001b[0m: name 'Calc_HR2' is not defined"
     ]
    }
   ],
   "source": [
    "A = np.random.rand(M,D,M)\n",
    "dtype = np.dtype(\"float\");\n",
    "h = ( np.kron(Sx,Sx) + np.kron(Sy,Sy) + np.kron(Sz,Sz) ).real.reshape(D,D,D,D)\n",
    "AC,C,AR,AL = MO.MixedCanonicalForm(A,dtype)\n",
    "hr = Calc_hr(AR,h)\n",
    "er = Calc_right_energy(AR,h,dtype)\n",
    "hr -= er * np.eye(M,M)\n",
    "HR = Calc_HR_PowerMethod(AR,hr)\n",
    "HR2 = Calc_HR2(AR.transpose(1,0,2),hr)\n",
    "print (np.allclose(HR,HR2))\n",
    "#print (HR.reshape(M*M)-HR2,HR2-HR3,HR3-HR.reshape(M*M),HR3)"
   ]
  },
  {
   "cell_type": "code",
   "execution_count": null,
   "metadata": {},
   "outputs": [],
   "source": []
  },
  {
   "cell_type": "code",
   "execution_count": null,
   "metadata": {},
   "outputs": [],
   "source": []
  },
  {
   "cell_type": "code",
   "execution_count": 27,
   "metadata": {},
   "outputs": [],
   "source": []
  },
  {
   "cell_type": "code",
   "execution_count": null,
   "metadata": {},
   "outputs": [],
   "source": []
  },
  {
   "cell_type": "code",
   "execution_count": null,
   "metadata": {},
   "outputs": [],
   "source": []
  },
  {
   "cell_type": "code",
   "execution_count": null,
   "metadata": {},
   "outputs": [],
   "source": []
  },
  {
   "cell_type": "code",
   "execution_count": null,
   "metadata": {},
   "outputs": [],
   "source": []
  },
  {
   "cell_type": "code",
   "execution_count": null,
   "metadata": {},
   "outputs": [],
   "source": []
  },
  {
   "cell_type": "code",
   "execution_count": null,
   "metadata": {},
   "outputs": [],
   "source": []
  },
  {
   "cell_type": "code",
   "execution_count": null,
   "metadata": {},
   "outputs": [],
   "source": []
  },
  {
   "cell_type": "code",
   "execution_count": null,
   "metadata": {},
   "outputs": [],
   "source": []
  },
  {
   "cell_type": "code",
   "execution_count": null,
   "metadata": {},
   "outputs": [],
   "source": []
  }
 ],
 "metadata": {
  "kernelspec": {
   "display_name": "Python 3",
   "language": "python",
   "name": "python3"
  },
  "language_info": {
   "codemirror_mode": {
    "name": "ipython",
    "version": 3
   },
   "file_extension": ".py",
   "mimetype": "text/x-python",
   "name": "python",
   "nbconvert_exporter": "python",
   "pygments_lexer": "ipython3",
   "version": "3.7.3"
  }
 },
 "nbformat": 4,
 "nbformat_minor": 2
}
