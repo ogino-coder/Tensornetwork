{
 "cells": [
  {
   "cell_type": "code",
   "execution_count": 1,
   "metadata": {},
   "outputs": [],
   "source": [
    "import numpy as np\n",
    "import scipy as sp\n",
    "from scipy.sparse.linalg import LinearOperator\n",
    "import time\n",
    "\n",
    "import MathFunctions as MF\n",
    "import MPSOperators as MO\n",
    "import SingleVUMPS as SV"
   ]
  },
  {
   "cell_type": "code",
   "execution_count": null,
   "metadata": {},
   "outputs": [
    {
     "name": "stdout",
     "output_type": "stream",
     "text": [
      "(-0.2497011611506333+1.4551814767468298e-16j) (-0.249701161150634+6.49042526267561e-17j) 0.05311037932165587\n",
      "(-0.4414598935594748+2.0166160408230382e-17j) (-0.4414058973844153-2.237793284010081e-16j) 0.00442195462210858\n"
     ]
    }
   ],
   "source": [
    "D = 2; M = 60\n",
    "#dtype = np.dtype(\"float\"); A = np.random.rand(M,D,M)\n",
    "dtype = np.dtype(\"complex\"); A = np.random.rand(M,D,M) + 1j * np.random.rand(M,D,M); \n",
    "Sx,Sy,Sz,Su,Sd = MF.Spin(D)\n",
    "h = - ( np.kron(Sx,Sx) + np.kron(Sy,Sy) - np.kron(Sz,Sz) ).real.reshape(D,D,D,D)\n",
    "#h =  ( np.kron(Sx,Sx) + np.kron(Sy,Sy) + np.kron(Sz,Sz) ).real.reshape(D,D,D,D)\n",
    "AC,C,AR,AL = MO.MixedCanonicalForm(A,dtype)\n",
    "HR = np.random.rand(M,M); HL = np.random.rand(M,M) # initial HR and HL\n",
    "for i in range (10):\n",
    "    HR,er = SV.Calc_HR(AR,HR,h,dtype)\n",
    "    HL,el = SV.Calc_HL(AL,HL,h,dtype)\n",
    "    AC = SV.Next_AC(AC,AR,AL,HR,HL,h,dtype)\n",
    "    #AC = SV.Simple_Next_AC(AC,AR,AL,HR,HL,h,dtype)\n",
    "    C = SV.Next_C(C,AR,AL,HR,HL,h,dtype)\n",
    "    #C = SV.Simple_Next_C(C,AR,AL,HR,HL,h,dtype)\n",
    "    AR = SV.Next_AR_SVD(AC,C)\n",
    "    #AR = SV.Next_AR_PolarDecomposition(AC,C)\n",
    "    AL = SV.Next_AL_SVD(AC,C)\n",
    "    #AL = SV.Next_AL_PolarDecomposition(AC,C)\n",
    "    B = SV.Calc_B(AC,C,AR,AL)\n",
    "    print (er,el,B)"
   ]
  },
  {
   "cell_type": "code",
   "execution_count": null,
   "metadata": {},
   "outputs": [],
   "source": []
  },
  {
   "cell_type": "code",
   "execution_count": null,
   "metadata": {},
   "outputs": [],
   "source": []
  },
  {
   "cell_type": "code",
   "execution_count": 27,
   "metadata": {},
   "outputs": [],
   "source": []
  },
  {
   "cell_type": "code",
   "execution_count": null,
   "metadata": {},
   "outputs": [],
   "source": []
  },
  {
   "cell_type": "code",
   "execution_count": null,
   "metadata": {},
   "outputs": [],
   "source": []
  },
  {
   "cell_type": "code",
   "execution_count": null,
   "metadata": {},
   "outputs": [],
   "source": []
  },
  {
   "cell_type": "code",
   "execution_count": null,
   "metadata": {},
   "outputs": [],
   "source": []
  },
  {
   "cell_type": "code",
   "execution_count": null,
   "metadata": {},
   "outputs": [],
   "source": []
  },
  {
   "cell_type": "code",
   "execution_count": null,
   "metadata": {},
   "outputs": [],
   "source": []
  },
  {
   "cell_type": "code",
   "execution_count": null,
   "metadata": {},
   "outputs": [],
   "source": []
  },
  {
   "cell_type": "code",
   "execution_count": null,
   "metadata": {},
   "outputs": [],
   "source": []
  },
  {
   "cell_type": "code",
   "execution_count": null,
   "metadata": {},
   "outputs": [],
   "source": []
  }
 ],
 "metadata": {
  "kernelspec": {
   "display_name": "Python 3",
   "language": "python",
   "name": "python3"
  },
  "language_info": {
   "codemirror_mode": {
    "name": "ipython",
    "version": 3
   },
   "file_extension": ".py",
   "mimetype": "text/x-python",
   "name": "python",
   "nbconvert_exporter": "python",
   "pygments_lexer": "ipython3",
   "version": "3.7.3"
  }
 },
 "nbformat": 4,
 "nbformat_minor": 2
}
