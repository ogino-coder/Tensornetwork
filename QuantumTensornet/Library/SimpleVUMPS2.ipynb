{
 "cells": [
  {
   "cell_type": "code",
   "execution_count": 3,
   "metadata": {},
   "outputs": [],
   "source": [
    "import numpy as np\n",
    "import scipy as sp\n",
    "from scipy.sparse.linalg import LinearOperator\n",
    "\n",
    "import MathFunctions as MF\n",
    "import MPSOperators as MO\n",
    "import SingleVUMPS as SV"
   ]
  },
  {
   "cell_type": "code",
   "execution_count": null,
   "metadata": {},
   "outputs": [
    {
     "name": "stdout",
     "output_type": "stream",
     "text": [
      "-0.2468241545888717 -0.2468241545888708 0.09375812814590523\n",
      "-0.43856665057496563 -0.43904755327125633 0.014396242850113204\n",
      "-0.44234961363943104 -0.44235590104275013 0.0057774121686621355\n",
      "-0.4428161081165485 -0.44282350488024536 0.0029611696471662967\n",
      "-0.44294433529114796 -0.4429454353266842 0.001683925922950708\n",
      "-0.44298419546117596 -0.442984372946432 0.000978414322679446\n",
      "-0.4429976050397951 -0.44299763514621304 0.0005717122376838022\n",
      "-0.44300222838279657 -0.44300223313272014 0.0003351569831455538\n",
      "-0.4430038301819611 -0.4430038309979353 0.00019650583702867497\n",
      "-0.44300438483450366 -0.4430043849598133 0.00011524451069590837\n",
      "-0.44300457650091585 -0.44300457652254077 6.757595104797471e-05\n",
      "-0.44300464262169437 -0.4430046426249463 3.9624945979531056e-05\n",
      "-0.44300466540297895 -0.4430046654035462 2.323429870970789e-05\n",
      "-0.4430046732459092 -0.44300467324599024 1.3623936686993972e-05\n",
      "-0.44300467594468806 -0.44300467594470283 7.988836337563382e-06\n",
      "-0.44300467687310274 -0.4430046768731045 4.684655405066197e-06\n",
      "-0.44300467719244274 -0.44300467719244374 2.747145797754276e-06\n",
      "-0.4430046773022769 -0.44300467730227877 1.6109988951045883e-06\n",
      "-0.44300467734005466 -0.44300467734005433 9.447482137381803e-07\n",
      "-0.44300467735304705 -0.44300467735304744 5.5404273705696e-07\n",
      "-0.4430046773575167 -0.4430046773575159 3.249195197891908e-07\n",
      "-0.44300467735905386 -0.4430046773590546 1.9055191447636032e-07\n",
      "-0.44300467735958204 -0.44300467735958304 1.1175209154135284e-07\n",
      "-0.44300467735976456 -0.4430046773597641 6.553948703559736e-08\n",
      "-0.4430046773598269 -0.4430046773598278 3.8437566638293116e-08\n",
      "-0.4430046773598482 -0.4430046773598486 2.2543164590323683e-08\n",
      "-0.4430046773598561 -0.4430046773598563 1.3221503686086915e-08\n",
      "-0.4430046773598584 -0.44300467735985816 7.754520132331881e-09\n",
      "-0.44300467735986016 -0.44300467735985966 4.548187340969615e-09\n",
      "-0.4430046773598594 -0.4430046773598593 2.6676729681663655e-09\n",
      "-0.44300467735986104 -0.44300467735986027 1.564730374288342e-09\n",
      "-0.4430046773598594 -0.4430046773598602 9.178278431018491e-10\n",
      "-0.4430046773598606 -0.44300467735985993 5.383942664960508e-10\n"
     ]
    }
   ],
   "source": [
    "D = 2; M = 10\n",
    "dtype = np.dtype(\"float\"); A = np.random.rand(M,D,M)\n",
    "#dtype = np.dtype(\"complex\"); A = np.random.rand(M,D,M) + 1j * np.random.rand(M,D,M); \n",
    "Sx,Sy,Sz,Su,Sd = MF.Spin(D)\n",
    "h = - ( np.kron(Sx,Sx) + np.kron(Sy,Sy) - np.kron(Sz,Sz) ).real.reshape(D,D,D,D)\n",
    "#h =  ( np.kron(Sx,Sx) + np.kron(Sy,Sy) + np.kron(Sz,Sz) ).real.reshape(D,D,D,D)\n",
    "AC,C,AR,AL = MO.MixedCanonicalForm(A,dtype)\n",
    "HR = np.random.rand(M,M); HL = np.random.rand(M,M) # initial HR and HL\n",
    "for i in range (50):\n",
    "    HR,er = SV.Calc_HR(AR,HR,h,dtype)\n",
    "    HL,el = SV.Calc_HL(AL,HL,h,dtype)\n",
    "    #AC = SV.Next_AC(AC,AR,AL,HR,HL,h,dtype)\n",
    "    AC = SV.Simple_Next_AC(AC,AR,AL,HR,HL,h,dtype)\n",
    "    #C = SV.Next_C(C,AR,AL,HR,HL,h,dtype)\n",
    "    C = SV.Simple_Next_C(C,AR,AL,HR,HL,h,dtype)\n",
    "    AR = SV.Next_AR_SVD(AC,C)\n",
    "    #AR = SV.Next_AR_PolarDecomposition(AC,C)\n",
    "    AL = SV.Next_AL_SVD(AC,C)\n",
    "    #AL = SV.Next_AL_PolarDecomposition(AC,C)\n",
    "    B = SV.Calc_B(AC,C,AR,AL)\n",
    "    print (er,el,B)"
   ]
  },
  {
   "cell_type": "code",
   "execution_count": null,
   "metadata": {},
   "outputs": [],
   "source": []
  },
  {
   "cell_type": "code",
   "execution_count": null,
   "metadata": {},
   "outputs": [],
   "source": []
  },
  {
   "cell_type": "code",
   "execution_count": 27,
   "metadata": {},
   "outputs": [],
   "source": []
  },
  {
   "cell_type": "code",
   "execution_count": null,
   "metadata": {},
   "outputs": [],
   "source": []
  },
  {
   "cell_type": "code",
   "execution_count": null,
   "metadata": {},
   "outputs": [],
   "source": []
  },
  {
   "cell_type": "code",
   "execution_count": null,
   "metadata": {},
   "outputs": [],
   "source": []
  },
  {
   "cell_type": "code",
   "execution_count": null,
   "metadata": {},
   "outputs": [],
   "source": []
  },
  {
   "cell_type": "code",
   "execution_count": null,
   "metadata": {},
   "outputs": [],
   "source": []
  },
  {
   "cell_type": "code",
   "execution_count": null,
   "metadata": {},
   "outputs": [],
   "source": []
  },
  {
   "cell_type": "code",
   "execution_count": null,
   "metadata": {},
   "outputs": [],
   "source": []
  },
  {
   "cell_type": "code",
   "execution_count": null,
   "metadata": {},
   "outputs": [],
   "source": []
  },
  {
   "cell_type": "code",
   "execution_count": null,
   "metadata": {},
   "outputs": [],
   "source": []
  }
 ],
 "metadata": {
  "kernelspec": {
   "display_name": "Python 3",
   "language": "python",
   "name": "python3"
  },
  "language_info": {
   "codemirror_mode": {
    "name": "ipython",
    "version": 3
   },
   "file_extension": ".py",
   "mimetype": "text/x-python",
   "name": "python",
   "nbconvert_exporter": "python",
   "pygments_lexer": "ipython3",
   "version": "3.7.3"
  }
 },
 "nbformat": 4,
 "nbformat_minor": 2
}
