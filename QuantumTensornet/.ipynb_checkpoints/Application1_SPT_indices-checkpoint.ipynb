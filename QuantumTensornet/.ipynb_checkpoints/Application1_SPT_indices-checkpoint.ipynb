{
 "cells": [
  {
   "cell_type": "markdown",
   "metadata": {},
   "source": [
    "# SPT indices of the one-dimensional spin-$1$ Heisenberg model\n",
    "\n",
    "This program corresponds to Sec. III in Ref. [1]."
   ]
  },
  {
   "cell_type": "markdown",
   "metadata": {},
   "source": [
    "#### Reference\n",
    "\n",
    "[1] Phys. Rev. B 86, 125441 (2012)\n",
    "\n",
    "https://journals.aps.org/prb/abstract/10.1103/PhysRevB.86.125441\n",
    "\n",
    "https://arxiv.org/abs/1204.0704"
   ]
  },
  {
   "cell_type": "code",
   "execution_count": 2,
   "metadata": {},
   "outputs": [],
   "source": [
    "import numpy as np\n",
    "import scipy as sp\n",
    "from scipy.sparse.linalg import LinearOperator\n",
    "\n",
    "import sys\n",
    "sys.path.append('Library')\n",
    "import MathFunctions as MF\n",
    "import MPSOperators as MO\n",
    "import SingleVUMPS as SV"
   ]
  },
  {
   "cell_type": "code",
   "execution_count": 28,
   "metadata": {},
   "outputs": [],
   "source": [
    "dtype = np.dtype(\"float\")\n",
    "D = 3; M = 30; JJ = 1.0; BB = 0.0; DD = 1.5\n",
    "Tensors = np.load(\"Data/Tensors_Heisenberg_{}_{}_{}_{}_{}.npy\".format(D,M,JJ,BB,DD),allow_pickle=True)\n",
    "\n",
    "AC,C,AR,AL = Tensors"
   ]
  },
  {
   "cell_type": "markdown",
   "metadata": {},
   "source": [
    "Calculate $ \\mathcal{O}_{Z2\\times Z2}$ in Eq. (14) and Fig. 4 in Ref. [1]."
   ]
  },
  {
   "cell_type": "code",
   "execution_count": 29,
   "metadata": {},
   "outputs": [
    {
     "name": "stdout",
     "output_type": "stream",
     "text": [
      "0.9999999999999981\n"
     ]
    }
   ],
   "source": [
    "Sx,Sy,Sz,Su,Sd = MF.Spin(D)\n",
    "Rx = sp.linalg.expm(1j*np.pi*Sx)\n",
    "Rz = sp.linalg.expm(1j*np.pi*Sz)\n",
    "_,Uxinvvec = MF.ExtendedRightEigs(AR,Rx,dtype=dtype)\n",
    "_,Uzinvvec = MF.ExtendedRightEigs(AR,Rz,dtype=dtype)\n",
    "Uxinv = Uxinvvec.reshape(M,M)\n",
    "Uzinv = Uzinvvec.reshape(M,M)\n",
    "Ux = np.conj(Uxinv).T\n",
    "Uz = np.conj(Uzinv).T\n",
    "\n",
    "OZ2Z2 = np.trace(np.einsum(\"ab,bc,cd,de -> ae\",Ux,Uz,Uxinv,Uzinv)) * M\n",
    "print (OZ2Z2)"
   ]
  },
  {
   "cell_type": "code",
   "execution_count": null,
   "metadata": {},
   "outputs": [],
   "source": []
  },
  {
   "cell_type": "code",
   "execution_count": null,
   "metadata": {},
   "outputs": [],
   "source": []
  },
  {
   "cell_type": "code",
   "execution_count": null,
   "metadata": {},
   "outputs": [],
   "source": []
  },
  {
   "cell_type": "code",
   "execution_count": null,
   "metadata": {},
   "outputs": [],
   "source": []
  },
  {
   "cell_type": "code",
   "execution_count": null,
   "metadata": {},
   "outputs": [],
   "source": []
  },
  {
   "cell_type": "code",
   "execution_count": null,
   "metadata": {},
   "outputs": [],
   "source": []
  }
 ],
 "metadata": {
  "kernelspec": {
   "display_name": "Python 3",
   "language": "python",
   "name": "python3"
  },
  "language_info": {
   "codemirror_mode": {
    "name": "ipython",
    "version": 3
   },
   "file_extension": ".py",
   "mimetype": "text/x-python",
   "name": "python",
   "nbconvert_exporter": "python",
   "pygments_lexer": "ipython3",
   "version": "3.7.3"
  }
 },
 "nbformat": 4,
 "nbformat_minor": 2
}
